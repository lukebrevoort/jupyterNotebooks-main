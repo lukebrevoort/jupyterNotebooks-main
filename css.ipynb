{
 "cells": [
  {
   "cell_type": "markdown",
   "id": "e2a4c011",
   "metadata": {},
   "source": [
    "# Basic CSS\n",
    "\n",
    "This notebook introduces the fundamentals of CSS, including the box model, selectors, layout techniques, and responsive design."
   ]
  },
  {
   "cell_type": "markdown",
   "id": "aeb40409",
   "metadata": {},
   "source": [
    "\n",
    "## Overview\n",
    "\n",
    "Cascading Style Sheets (CSS) is used to style and layout web pages. This notebook covers key concepts and practical examples.\n",
    "\n",
    "**Topics Covered:**\n",
    "- The Box Model\n",
    "- Selectors\n",
    "- Specificity and Inheritance\n",
    "- Sizing Units\n",
    "- Layouts (Flexbox, Grid)\n"
   ]
  },
  {
   "cell_type": "markdown",
   "id": "73561a67",
   "metadata": {},
   "source": [
    "\n",
    "## Box Model\n",
    "\n",
    "The box model describes the rectangular boxes generated for elements in a webpage. Each box consists of the following areas:\n",
    "1. **Content**: The inner part containing the content.\n",
    "2. **Padding**: Space between the content and the border.\n",
    "3. **Border**: Surrounds the padding.\n",
    "4. **Margin**: Space between the element and its neighbors.\n",
    "\n",
    "### CSS Example for Box Model\n"
   ]
  },
  {
   "cell_type": "code",
   "execution_count": 6,
   "id": "5b180b9f",
   "metadata": {},
   "outputs": [
    {
     "name": "stderr",
     "output_type": "stream",
     "text": [
      "/var/folders/rn/kq92glk92t592l94yxfvg9gc0000gn/T/ipykernel_2460/858379384.py:1: DeprecationWarning: Importing display from IPython.core.display is deprecated since IPython 7.14, please import from IPython.display\n",
      "  from IPython.core.display import display, HTML\n"
     ]
    },
    {
     "data": {
      "text/html": [
       "\n",
       "<!DOCTYPE html>\n",
       "<html lang=\"en\">\n",
       "<head>\n",
       "    <meta charset=\"UTF-8\">\n",
       "    <meta name=\"viewport\" content=\"width=device-width, initial-scale=1.0\">\n",
       "    <title>Box Model Example</title>\n",
       "    <style>\n",
       "        .box {\n",
       "            width: 200px;\n",
       "            height: 100px;\n",
       "            margin: 20px;\n",
       "            padding: 10px;\n",
       "            border: 5px solid black;\n",
       "            background-color: grey;\n",
       "        }\n",
       "    </style>\n",
       "</head>\n",
       "<body>\n",
       "    <p class=\"box\">This is a box model example.</p>\n",
       "</body>\n",
       "</html>\n"
      ],
      "text/plain": [
       "<IPython.core.display.HTML object>"
      ]
     },
     "metadata": {},
     "output_type": "display_data"
    }
   ],
   "source": [
    "from IPython.core.display import display, HTML\n",
    "\n",
    "html_content = \"\"\"\n",
    "<!DOCTYPE html>\n",
    "<html lang=\"en\">\n",
    "<head>\n",
    "    <meta charset=\"UTF-8\">\n",
    "    <meta name=\"viewport\" content=\"width=device-width, initial-scale=1.0\">\n",
    "    <title>Box Model Example</title>\n",
    "    <style>\n",
    "        .box {\n",
    "            width: 200px;\n",
    "            height: 100px;\n",
    "            margin: 20px;\n",
    "            padding: 10px;\n",
    "            border: 5px solid black;\n",
    "            background-color: grey;\n",
    "        }\n",
    "    </style>\n",
    "</head>\n",
    "<body>\n",
    "    <p class=\"box\">This is a box model example.</p>\n",
    "</body>\n",
    "</html>\n",
    "\"\"\"\n",
    "\n",
    "display(HTML(html_content))\n"
   ]
  },
  {
   "cell_type": "markdown",
   "id": "dd32fa05",
   "metadata": {},
   "source": [
    "\n",
    "## Selectors\n",
    "\n",
    "Selectors are used to target elements for styling.\n",
    "\n",
    "### Common Selectors\n",
    "1. **Universal Selector**: Targets all elements.\n",
    "2. **Type Selector**: Targets elements by their tag name.\n",
    "3. **Class Selector**: Targets elements with a specific class.\n",
    "4. **ID Selector**: Targets elements with a specific ID.\n",
    "5. **Attribute Selector**: Targets elements with a specific attribute.\n",
    "\n",
    "### CSS Example for Selectors\n"
   ]
  },
  {
   "cell_type": "code",
   "execution_count": 7,
   "id": "27a55025",
   "metadata": {},
   "outputs": [
    {
     "name": "stderr",
     "output_type": "stream",
     "text": [
      "/var/folders/rn/kq92glk92t592l94yxfvg9gc0000gn/T/ipykernel_2460/2809163420.py:1: DeprecationWarning: Importing display from IPython.core.display is deprecated since IPython 7.14, please import from IPython.display\n",
      "  from IPython.core.display import display, HTML\n"
     ]
    },
    {
     "data": {
      "text/html": [
       "\n",
       "<style>\n",
       "  * { color: gray; } /* Universal selector */\n",
       "  p { font-size: 16px; } /* Type selector */\n",
       "  .highlight { background-color: yellow; } /* Class selector */\n",
       "  #unique { font-weight: bold; } /* ID selector */\n",
       "  [data-type=\"info\"] { color: blue; } /* Attribute selector */\n",
       "</style>\n",
       "<p>This is a paragraph.</p>\n",
       "<p class=\"highlight\">This paragraph is highlighted.</p>\n",
       "<p id=\"unique\">This is a unique paragraph.</p>\n",
       "<p data-type=\"info\">This paragraph contains information.</p>\n"
      ],
      "text/plain": [
       "<IPython.core.display.HTML object>"
      ]
     },
     "metadata": {},
     "output_type": "display_data"
    }
   ],
   "source": [
    "from IPython.core.display import display, HTML\n",
    "\n",
    "html_content = \"\"\"\n",
    "<style>\n",
    "  * { color: gray; } /* Universal selector */\n",
    "  p { font-size: 16px; } /* Type selector */\n",
    "  .highlight { background-color: yellow; } /* Class selector */\n",
    "  #unique { font-weight: bold; } /* ID selector */\n",
    "  [data-type=\"info\"] { color: blue; } /* Attribute selector */\n",
    "</style>\n",
    "<p>This is a paragraph.</p>\n",
    "<p class=\"highlight\">This paragraph is highlighted.</p>\n",
    "<p id=\"unique\">This is a unique paragraph.</p>\n",
    "<p data-type=\"info\">This paragraph contains information.</p>\n",
    "\"\"\"\n",
    "\n",
    "display(HTML(html_content))\n"
   ]
  },
  {
   "cell_type": "markdown",
   "id": "bc6e1e5e",
   "metadata": {},
   "source": [
    "\n",
    "## Layouts: Flexbox and Grid\n",
    "\n",
    "### Flexbox\n",
    "Flexbox is a one-dimensional layout system for arranging items in rows or columns.\n",
    "\n",
    "### Grid\n",
    "Grid is a two-dimensional layout system for creating complex layouts.\n",
    "\n",
    "### CSS Example for Layouts\n"
   ]
  },
  {
   "cell_type": "code",
   "execution_count": 10,
   "id": "91d4a782",
   "metadata": {},
   "outputs": [
    {
     "data": {
      "text/html": [
       "\n",
       "<style>\n",
       "  .flex-container {\n",
       "    color: black;\n",
       "    display: flex;\n",
       "    justify-content: space-around;\n",
       "    align-items: center;\n",
       "    height: 100px;\n",
       "    border: 2px solid black;\n",
       "  }\n",
       "  .grid-container {\n",
       "    display: grid;\n",
       "    grid-template-columns: repeat(3, 1fr);\n",
       "    gap: 10px;\n",
       "    border: 2px solid black;\n",
       "  }\n",
       "  .item { background-color: lightblue; padding: 20px; }\n",
       "</style>\n",
       "<div class=\"flex-container\">\n",
       "  <div class=\"item\">Flex Item 1</div>\n",
       "  <div class=\"item\">Flex Item 2</div>\n",
       "  <div class=\"item\">Flex Item 3</div>\n",
       "</div>\n",
       "<div class=\"grid-container\">\n",
       "  <div class=\"item\">Grid Item 1</div>\n",
       "  <div class=\"item\">Grid Item 2</div>\n",
       "  <div class=\"item\">Grid Item 3</div>\n",
       "</div>\n"
      ],
      "text/plain": [
       "<IPython.core.display.HTML object>"
      ]
     },
     "metadata": {},
     "output_type": "display_data"
    }
   ],
   "source": [
    "import IPython.display as display\n",
    "\n",
    "html_code = \"\"\"\n",
    "<style>\n",
    "  .flex-container {\n",
    "    color: black;\n",
    "    display: flex;\n",
    "    justify-content: space-around;\n",
    "    align-items: center;\n",
    "    height: 100px;\n",
    "    border: 2px solid black;\n",
    "  }\n",
    "  .grid-container {\n",
    "    display: grid;\n",
    "    grid-template-columns: repeat(3, 1fr);\n",
    "    gap: 10px;\n",
    "    border: 2px solid black;\n",
    "  }\n",
    "  .item { background-color: lightblue; padding: 20px; }\n",
    "</style>\n",
    "<div class=\"flex-container\">\n",
    "  <div class=\"item\">Flex Item 1</div>\n",
    "  <div class=\"item\">Flex Item 2</div>\n",
    "  <div class=\"item\">Flex Item 3</div>\n",
    "</div>\n",
    "<div class=\"grid-container\">\n",
    "  <div class=\"item\">Grid Item 1</div>\n",
    "  <div class=\"item\">Grid Item 2</div>\n",
    "  <div class=\"item\">Grid Item 3</div>\n",
    "</div>\n",
    "\"\"\"\n",
    "\n",
    "display.display(display.HTML(html_code))\n"
   ]
  }
 ],
 "metadata": {
  "kernelspec": {
   "display_name": "Python 3",
   "language": "python",
   "name": "python3"
  },
  "language_info": {
   "codemirror_mode": {
    "name": "ipython",
    "version": 3
   },
   "file_extension": ".py",
   "mimetype": "text/x-python",
   "name": "python",
   "nbconvert_exporter": "python",
   "pygments_lexer": "ipython3",
   "version": "3.10.0"
  }
 },
 "nbformat": 4,
 "nbformat_minor": 5
}
